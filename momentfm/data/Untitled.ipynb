{
 "cells": [
  {
   "cell_type": "code",
   "execution_count": 4,
   "id": "29caff9c-9b90-4f2f-9af3-aabd16ad0aa0",
   "metadata": {},
   "outputs": [
    {
     "name": "stdout",
     "output_type": "stream",
     "text": [
      "Original Data Shape: (3000888, 6)\n",
      "   id        date  store_nbr      family  sales  onpromotion\n",
      "0   0  2013-01-01          1  AUTOMOTIVE    0.0            0\n",
      "1   1  2013-01-01          1   BABY CARE    0.0            0\n",
      "2   2  2013-01-01          1      BEAUTY    0.0            0\n",
      "3   3  2013-01-01          1   BEVERAGES    0.0            0\n",
      "4   4  2013-01-01          1       BOOKS    0.0            0\n",
      "Train Slice: slice(0, 8640, None), Test Slice: slice(11008, 14400, None)\n",
      "Train Data Shape: (8640, 2)\n",
      "Processed Data Shape: (8640, 2)\n",
      "Dataset loaded successfully.\n",
      "Dataset length: 7937 samples\n",
      "Seq Start: 0, Seq End: 512\n",
      "Adjusted Seq Start: 0, Seq End: 320, Pred End: 704\n",
      "Timeseries Shape: (2, 320), Forecast Shape: (2, 384)\n",
      "First sample loaded successfully.\n",
      "Timeseries shape: (2, 320)\n",
      "Forecast shape: (2, 384)\n"
     ]
    }
   ],
   "source": [
    "import os\n",
    "from informer_dataset import InformerDataset\n",
    "\n",
    "\n",
    "def check_dataset_loading():\n",
    "    # Check the current working directory\n",
    "    # current_dir = os.getcwd()\n",
    "    # print(f\"Current working directory: {current_dir}\")\n",
    "\n",
    "    # # Path to the CSV file\n",
    "    # dataset_path = \"train.csv\"\n",
    "    \n",
    "    # # Full resolved path for debugging\n",
    "    # full_path = os.path.realpath(os.path.join(current_dir, dataset_path))\n",
    "    # print(f\"Resolved dataset path: {full_path}\")\n",
    "    \n",
    "    # # Check if the file exists\n",
    "    # if not os.path.exists(full_path):\n",
    "    #     raise FileNotFoundError(f\"The file '{full_path}' does not exist. Please check the file path.\")\n",
    "    \n",
    "    # # Attempt to load the dataset\n",
    "    try:\n",
    "        dataset = InformerDataset(\n",
    "            forecast_horizon=192,\n",
    "            data_split=\"train\",\n",
    "            data_stride_len=1,\n",
    "            task_name=\"forecasting\",\n",
    "            random_seed=13\n",
    "        )\n",
    "        print(\"Dataset loaded successfully.\")\n",
    "    except Exception as e:\n",
    "        print(f\"An error occurred while loading the dataset: {str(e)}\")\n",
    "        return\n",
    "\n",
    "    # Display some basic information about the dataset\n",
    "    print(f\"Dataset length: {len(dataset)} samples\")\n",
    "    \n",
    "    # Optionally, check the first item\n",
    "    try:\n",
    "        timeseries, forecast, input_mask = dataset[0]\n",
    "        print(\"First sample loaded successfully.\")\n",
    "        print(f\"Timeseries shape: {timeseries.shape}\")\n",
    "        print(f\"Forecast shape: {forecast.shape}\")\n",
    "    except Exception as e:\n",
    "        print(f\"An error occurred while accessing the first sample: {str(e)}\")\n",
    "    \n",
    "if __name__ == '__main__':\n",
    "    check_dataset_loading()"
   ]
  },
  {
   "cell_type": "code",
   "execution_count": 2,
   "id": "f256f4f7-826d-4885-9704-8e73efac7554",
   "metadata": {},
   "outputs": [
    {
     "name": "stdout",
     "output_type": "stream",
     "text": [
      "Untitled.ipynb\t\t      classification_dataset.py\n",
      "__init__.py\t\t      informer_dataset.py\n",
      "__pycache__\t\t      ptbxl_classification_dataset.py\n",
      "anomaly_detection_dataset.py  synthetic_data.py\n",
      "base.py\t\t\t      train.csv\n"
     ]
    }
   ],
   "source": [
    "!ls"
   ]
  },
  {
   "cell_type": "code",
   "execution_count": null,
   "id": "f783d227-9e6f-4b79-8f49-4b70f603d67e",
   "metadata": {},
   "outputs": [],
   "source": []
  }
 ],
 "metadata": {
  "kernelspec": {
   "display_name": "Python 3 (ipykernel)",
   "language": "python",
   "name": "python3"
  },
  "language_info": {
   "codemirror_mode": {
    "name": "ipython",
    "version": 3
   },
   "file_extension": ".py",
   "mimetype": "text/x-python",
   "name": "python",
   "nbconvert_exporter": "python",
   "pygments_lexer": "ipython3",
   "version": "3.10.12"
  }
 },
 "nbformat": 4,
 "nbformat_minor": 5
}
